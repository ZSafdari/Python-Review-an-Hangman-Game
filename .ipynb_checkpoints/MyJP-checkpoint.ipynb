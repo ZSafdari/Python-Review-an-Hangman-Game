{
 "cells": [
  {
   "cell_type": "code",
   "execution_count": 2,
   "id": "bc97b98a-8a9b-4842-b62f-f4252049e027",
   "metadata": {},
   "outputs": [
    {
     "name": "stdout",
     "output_type": "stream",
     "text": [
      "Heeeellooo\n"
     ]
    }
   ],
   "source": [
    "print(\"Heeeellooo\")"
   ]
  },
  {
   "cell_type": "code",
   "execution_count": null,
   "id": "6ea06188-c7f5-47b5-a14b-db63878ef97f",
   "metadata": {},
   "outputs": [],
   "source": []
  },
  {
   "cell_type": "code",
   "execution_count": null,
   "id": "17715eb6-c675-4fd6-bb82-78de837ba4f8",
   "metadata": {},
   "outputs": [],
   "source": []
  },
  {
   "cell_type": "code",
   "execution_count": null,
   "id": "e4526c4a-1011-4ca2-ac2d-72d731c02afc",
   "metadata": {},
   "outputs": [],
   "source": []
  },
  {
   "cell_type": "code",
   "execution_count": null,
   "id": "e378b780-12cf-47aa-b653-7d9f45fb22df",
   "metadata": {},
   "outputs": [],
   "source": []
  }
 ],
 "metadata": {
  "kernelspec": {
   "display_name": "Python 3 (ipykernel)",
   "language": "python",
   "name": "python3"
  },
  "language_info": {
   "codemirror_mode": {
    "name": "ipython",
    "version": 3
   },
   "file_extension": ".py",
   "mimetype": "text/x-python",
   "name": "python",
   "nbconvert_exporter": "python",
   "pygments_lexer": "ipython3",
   "version": "3.12.9"
  }
 },
 "nbformat": 4,
 "nbformat_minor": 5
}
