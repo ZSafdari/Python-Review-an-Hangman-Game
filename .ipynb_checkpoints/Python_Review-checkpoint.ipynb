{
 "cells": [
  {
   "cell_type": "markdown",
   "id": "e005c0a3",
   "metadata": {},
   "source": [
    "# Variables:"
   ]
  },
  {
   "cell_type": "markdown",
   "id": "bcbc23e8",
   "metadata": {},
   "source": [
    "### Working with Strings!"
   ]
  },
  {
   "cell_type": "code",
   "execution_count": 13,
   "id": "bc97b98a-8a9b-4842-b62f-f4252049e027",
   "metadata": {},
   "outputs": [
    {
     "name": "stdout",
     "output_type": "stream",
     "text": [
      "Heeeellooo World\n"
     ]
    }
   ],
   "source": [
    "print(\"Heeeellooo World\")"
   ]
  },
  {
   "cell_type": "code",
   "execution_count": 14,
   "id": "608559f1",
   "metadata": {},
   "outputs": [
    {
     "name": "stdout",
     "output_type": "stream",
     "text": [
      "I am reviewing\n"
     ]
    }
   ],
   "source": [
    "msg = \"I am reviewing\"\n",
    "print(msg)"
   ]
  },
  {
   "cell_type": "code",
   "execution_count": 15,
   "id": "18e26bc2",
   "metadata": {},
   "outputs": [
    {
     "name": "stdout",
     "output_type": "stream",
     "text": [
      "I lost my dog's bag\n"
     ]
    }
   ],
   "source": [
    "msg_2 = 'I lost my dog\\'s bag'\n",
    "print(msg_2)"
   ]
  },
  {
   "cell_type": "code",
   "execution_count": 16,
   "id": "2f2a1c6a",
   "metadata": {},
   "outputs": [
    {
     "name": "stdout",
     "output_type": "stream",
     "text": [
      "I lost my dog's bag!\n",
      "I dont know where to find it!\n",
      "It's so frustrating!\n"
     ]
    }
   ],
   "source": [
    "msg_3 = \"\"\"I lost my dog's bag!\n",
    "I dont know where to find it!\n",
    "It's so frustrating!\"\"\"\n",
    "print(msg_3)"
   ]
  },
  {
   "cell_type": "code",
   "execution_count": 17,
   "id": "c94115c1",
   "metadata": {},
   "outputs": [
    {
     "name": "stdout",
     "output_type": "stream",
     "text": [
      "71\n"
     ]
    }
   ],
   "source": [
    "print(len(msg_3))"
   ]
  },
  {
   "cell_type": "code",
   "execution_count": 18,
   "id": "c4ee349f",
   "metadata": {},
   "outputs": [
    {
     "name": "stdout",
     "output_type": "stream",
     "text": [
      "\n",
      "It's so frustrating!\n"
     ]
    }
   ],
   "source": [
    "print(msg_3[50:])"
   ]
  },
  {
   "cell_type": "code",
   "execution_count": 19,
   "id": "f7e40f62",
   "metadata": {},
   "outputs": [
    {
     "name": "stdout",
     "output_type": "stream",
     "text": [
      "i lost my dog's bag!\n",
      "i dont know where to find it!\n",
      "it's so frustrating!\n"
     ]
    }
   ],
   "source": [
    "print(msg_3.lower())"
   ]
  },
  {
   "cell_type": "code",
   "execution_count": 20,
   "id": "455d8f72",
   "metadata": {},
   "outputs": [
    {
     "name": "stdout",
     "output_type": "stream",
     "text": [
      "I LOST MY DOG'S BAG!\n",
      "I DONT KNOW WHERE TO FIND IT!\n",
      "IT'S SO FRUSTRATING!\n"
     ]
    }
   ],
   "source": [
    "print(msg_3.upper())"
   ]
  },
  {
   "cell_type": "code",
   "execution_count": 21,
   "id": "7e145841",
   "metadata": {},
   "outputs": [
    {
     "name": "stdout",
     "output_type": "stream",
     "text": [
      "2\n"
     ]
    }
   ],
   "source": [
    "print(msg_3.count(\"w\"))"
   ]
  },
  {
   "cell_type": "code",
   "execution_count": 22,
   "id": "43482799",
   "metadata": {},
   "outputs": [
    {
     "name": "stdout",
     "output_type": "stream",
     "text": [
      "6\n"
     ]
    }
   ],
   "source": [
    "print(msg_3.lower().count(\"i\"))"
   ]
  },
  {
   "cell_type": "code",
   "execution_count": 23,
   "id": "f3da24e5",
   "metadata": {},
   "outputs": [
    {
     "name": "stdout",
     "output_type": "stream",
     "text": [
      "16\n"
     ]
    }
   ],
   "source": [
    "print(msg_3.find(\"bag\"))"
   ]
  },
  {
   "cell_type": "code",
   "execution_count": 24,
   "id": "1bac044c",
   "metadata": {},
   "outputs": [
    {
     "name": "stdout",
     "output_type": "stream",
     "text": [
      "-1\n"
     ]
    }
   ],
   "source": [
    "print(msg_3.find(\"hi\"))"
   ]
  },
  {
   "cell_type": "code",
   "execution_count": 25,
   "id": "08e76ffb",
   "metadata": {},
   "outputs": [
    {
     "name": "stdout",
     "output_type": "stream",
     "text": [
      "I lost my cat's bag!\n",
      "I dont know where to find it!\n",
      "It's so frustrating!\n"
     ]
    }
   ],
   "source": [
    "print(msg_3.replace(\"dog\", \"cat\"))"
   ]
  },
  {
   "cell_type": "code",
   "execution_count": 26,
   "id": "c7fe4c8d",
   "metadata": {},
   "outputs": [
    {
     "name": "stdout",
     "output_type": "stream",
     "text": [
      "Hi Sara, Welcome to Youtube\n",
      "Hi Sara, Welcome to Youtube\n",
      "Hi Sara, Welcome to Youtube\n"
     ]
    }
   ],
   "source": [
    "name = \"Sara\"\n",
    "app_name = \"Youtube\" \n",
    "\n",
    "\n",
    "message = \"Hi Sara, Welcome to Youtube\"\n",
    "message_1 = \"Hi \" + name + \",\" + \" Welcome to \" + app_name\n",
    "# fomatted string:\n",
    "message_2 = f\"Hi {name}, Welcome to {app_name}\"\n",
    "print(message)\n",
    "print(message_1)\n",
    "print(message_2)\n"
   ]
  },
  {
   "cell_type": "code",
   "execution_count": 27,
   "id": "979fd7d2",
   "metadata": {},
   "outputs": [
    {
     "name": "stdout",
     "output_type": "stream",
     "text": [
      "e\n"
     ]
    }
   ],
   "source": [
    "print(app_name[-1])"
   ]
  },
  {
   "cell_type": "markdown",
   "id": "2c65a0bb",
   "metadata": {},
   "source": [
    "### Working with Numerical Variables!"
   ]
  },
  {
   "cell_type": "code",
   "execution_count": 28,
   "id": "8cb64c68",
   "metadata": {},
   "outputs": [],
   "source": [
    "#int\n",
    "a = 4\n",
    "\n",
    "#float\n",
    "b = 10.23"
   ]
  },
  {
   "cell_type": "code",
   "execution_count": 29,
   "id": "f1e94c96",
   "metadata": {},
   "outputs": [
    {
     "name": "stdout",
     "output_type": "stream",
     "text": [
      "<class 'int'>\n"
     ]
    }
   ],
   "source": [
    "print(type(a))"
   ]
  },
  {
   "cell_type": "code",
   "execution_count": 30,
   "id": "0b1471d8",
   "metadata": {},
   "outputs": [
    {
     "name": "stdout",
     "output_type": "stream",
     "text": [
      "<class 'str'>\n"
     ]
    }
   ],
   "source": [
    "w = \"30\"\n",
    "print(type(w))"
   ]
  },
  {
   "cell_type": "code",
   "execution_count": 31,
   "id": "3ed12440",
   "metadata": {},
   "outputs": [
    {
     "name": "stdout",
     "output_type": "stream",
     "text": [
      "<class 'int'>\n"
     ]
    }
   ],
   "source": [
    "print(type(int(w)))"
   ]
  },
  {
   "cell_type": "code",
   "execution_count": 32,
   "id": "fdde2a74",
   "metadata": {},
   "outputs": [
    {
     "name": "stdout",
     "output_type": "stream",
     "text": [
      "2.5\n",
      "2\n",
      "100\n",
      "8\n"
     ]
    }
   ],
   "source": [
    "# + - * / // % **\n",
    "x = 500\n",
    "y = 200\n",
    "print(x / y)\n",
    "print(x // y)\n",
    "print(x % y)\n",
    "print((x // y)**3)\n",
    "\n",
    "# % ---> used for odd and even numbers"
   ]
  },
  {
   "cell_type": "code",
   "execution_count": 33,
   "id": "cab800c8",
   "metadata": {},
   "outputs": [
    {
     "name": "stdout",
     "output_type": "stream",
     "text": [
      "10\n"
     ]
    }
   ],
   "source": [
    "print(round(b))"
   ]
  },
  {
   "cell_type": "code",
   "execution_count": 34,
   "id": "9e1712ea",
   "metadata": {},
   "outputs": [
    {
     "name": "stdout",
     "output_type": "stream",
     "text": [
      "6\n"
     ]
    }
   ],
   "source": [
    "c = 5.73\n",
    "print(round(c))"
   ]
  },
  {
   "cell_type": "code",
   "execution_count": 35,
   "id": "f45b0eab",
   "metadata": {},
   "outputs": [
    {
     "name": "stdout",
     "output_type": "stream",
     "text": [
      "5\n",
      "6\n"
     ]
    }
   ],
   "source": [
    "import math\n",
    "\n",
    "print(math.floor(c))\n",
    "print(math.ceil(c))"
   ]
  },
  {
   "cell_type": "code",
   "execution_count": 36,
   "id": "fc58a125",
   "metadata": {},
   "outputs": [
    {
     "name": "stdout",
     "output_type": "stream",
     "text": [
      "1\n"
     ]
    }
   ],
   "source": [
    "i = 0\n",
    "i = i + 1\n",
    "print(i)\n"
   ]
  },
  {
   "cell_type": "code",
   "execution_count": 37,
   "id": "e4800c39",
   "metadata": {},
   "outputs": [
    {
     "name": "stdout",
     "output_type": "stream",
     "text": [
      "5\n"
     ]
    }
   ],
   "source": [
    "j = 0\n",
    "j =+ 5\n",
    "print(j)"
   ]
  },
  {
   "cell_type": "code",
   "execution_count": 38,
   "id": "915155e4",
   "metadata": {},
   "outputs": [
    {
     "data": {
      "text/plain": [
       "False"
      ]
     },
     "execution_count": 38,
     "metadata": {},
     "output_type": "execute_result"
    }
   ],
   "source": [
    "i == j"
   ]
  },
  {
   "cell_type": "code",
   "execution_count": 39,
   "id": "66c01f4c",
   "metadata": {},
   "outputs": [
    {
     "data": {
      "text/plain": [
       "True"
      ]
     },
     "execution_count": 39,
     "metadata": {},
     "output_type": "execute_result"
    }
   ],
   "source": [
    "i != j"
   ]
  },
  {
   "cell_type": "code",
   "execution_count": 40,
   "id": "1ec05eb3",
   "metadata": {},
   "outputs": [
    {
     "data": {
      "text/plain": [
       "True"
      ]
     },
     "execution_count": 40,
     "metadata": {},
     "output_type": "execute_result"
    }
   ],
   "source": [
    "i < j"
   ]
  },
  {
   "cell_type": "code",
   "execution_count": 41,
   "id": "bcb20c5b",
   "metadata": {},
   "outputs": [
    {
     "data": {
      "text/plain": [
       "False"
      ]
     },
     "execution_count": 41,
     "metadata": {},
     "output_type": "execute_result"
    }
   ],
   "source": [
    "i >= j"
   ]
  },
  {
   "cell_type": "markdown",
   "id": "fdd31f9f",
   "metadata": {},
   "source": [
    "### Working with Lists, Tuples and Sets!"
   ]
  },
  {
   "cell_type": "code",
   "execution_count": 42,
   "id": "3a0cb550",
   "metadata": {},
   "outputs": [],
   "source": [
    "# Lists -> [], a one dimensional array of elements\n",
    "# In Lists, order is important and they are mutable\n",
    "\n",
    "color = [\"red\", \"green\", \"blue\", \"yellow\", \"Black\"]\n",
    "num = [10, 14, 18, 22, 50, 67, 90]"
   ]
  },
  {
   "cell_type": "code",
   "execution_count": 43,
   "id": "c6b1de9c",
   "metadata": {},
   "outputs": [
    {
     "data": {
      "text/plain": [
       "7"
      ]
     },
     "execution_count": 43,
     "metadata": {},
     "output_type": "execute_result"
    }
   ],
   "source": [
    "len(num)"
   ]
  },
  {
   "cell_type": "code",
   "execution_count": 44,
   "id": "c97c107e",
   "metadata": {},
   "outputs": [
    {
     "data": {
      "text/plain": [
       "'red'"
      ]
     },
     "execution_count": 44,
     "metadata": {},
     "output_type": "execute_result"
    }
   ],
   "source": [
    "color[0]"
   ]
  },
  {
   "cell_type": "code",
   "execution_count": 45,
   "id": "f1c1d307",
   "metadata": {},
   "outputs": [
    {
     "data": {
      "text/plain": [
       "'Black'"
      ]
     },
     "execution_count": 45,
     "metadata": {},
     "output_type": "execute_result"
    }
   ],
   "source": [
    "color[-1]"
   ]
  },
  {
   "cell_type": "code",
   "execution_count": 46,
   "id": "8f960b24",
   "metadata": {},
   "outputs": [
    {
     "data": {
      "text/plain": [
       "[18, 22, 50]"
      ]
     },
     "execution_count": 46,
     "metadata": {},
     "output_type": "execute_result"
    }
   ],
   "source": [
    "num[2:5]"
   ]
  },
  {
   "cell_type": "code",
   "execution_count": 47,
   "id": "fb6de9da",
   "metadata": {},
   "outputs": [
    {
     "data": {
      "text/plain": [
       "67"
      ]
     },
     "execution_count": 47,
     "metadata": {},
     "output_type": "execute_result"
    }
   ],
   "source": [
    "num[-2]"
   ]
  },
  {
   "cell_type": "code",
   "execution_count": 48,
   "id": "fd308967",
   "metadata": {},
   "outputs": [
    {
     "name": "stdout",
     "output_type": "stream",
     "text": [
      "['red', 'green', 'blue', 'yellow', 'Black']\n"
     ]
    }
   ],
   "source": [
    "print(color)"
   ]
  },
  {
   "cell_type": "code",
   "execution_count": 49,
   "id": "1d5c387e",
   "metadata": {},
   "outputs": [
    {
     "name": "stdout",
     "output_type": "stream",
     "text": [
      "['red', 'green', 'blue', 'yellow', 'Black', 'white']\n"
     ]
    }
   ],
   "source": [
    "color.append(\"white\") # added to the end\n",
    "print(color)"
   ]
  },
  {
   "cell_type": "code",
   "execution_count": 50,
   "id": "c4008ab1",
   "metadata": {},
   "outputs": [
    {
     "name": "stdout",
     "output_type": "stream",
     "text": [
      "['red', 'green', 'pink', 'blue', 'yellow', 'Black', 'white']\n"
     ]
    }
   ],
   "source": [
    "color.insert(2, \"pink\") # added to the given index\n",
    "print(color)"
   ]
  },
  {
   "cell_type": "code",
   "execution_count": 51,
   "id": "efe1916c",
   "metadata": {},
   "outputs": [
    {
     "name": "stdout",
     "output_type": "stream",
     "text": [
      "['red', 'green', 'pink', 'blue', 'yellow', 'Black', 'white', 'purple', 'brown']\n"
     ]
    }
   ],
   "source": [
    "colors = [\"purple\", \"brown\"]\n",
    "color.extend(colors) # added to the list\n",
    "print(color)"
   ]
  },
  {
   "cell_type": "code",
   "execution_count": 52,
   "id": "8885b6b6",
   "metadata": {},
   "outputs": [
    {
     "name": "stdout",
     "output_type": "stream",
     "text": [
      "['red', 'green', 'pink', 'blue', 'yellow', 'Black', 'white', 'purple']\n"
     ]
    }
   ],
   "source": [
    "color.pop() # delete from the list - defult the last one\n",
    "print(color)"
   ]
  },
  {
   "cell_type": "code",
   "execution_count": 53,
   "id": "bf603ab1",
   "metadata": {},
   "outputs": [
    {
     "name": "stdout",
     "output_type": "stream",
     "text": [
      "90\n"
     ]
    }
   ],
   "source": [
    "deleted = num.pop()\n",
    "print(deleted)"
   ]
  },
  {
   "cell_type": "code",
   "execution_count": 54,
   "id": "542bab63",
   "metadata": {},
   "outputs": [],
   "source": [
    "numbers = [45, 2, 75, 66]\n",
    "numbers.sort()"
   ]
  },
  {
   "cell_type": "code",
   "execution_count": 55,
   "id": "03d75698",
   "metadata": {},
   "outputs": [
    {
     "name": "stdout",
     "output_type": "stream",
     "text": [
      "[2, 45, 66, 75]\n"
     ]
    }
   ],
   "source": [
    "print(numbers)"
   ]
  },
  {
   "cell_type": "code",
   "execution_count": 56,
   "id": "1cefae85",
   "metadata": {},
   "outputs": [],
   "source": [
    "numbers.reverse()"
   ]
  },
  {
   "cell_type": "code",
   "execution_count": 57,
   "id": "ef7fbe65",
   "metadata": {},
   "outputs": [
    {
     "name": "stdout",
     "output_type": "stream",
     "text": [
      "[75, 66, 45, 2]\n"
     ]
    }
   ],
   "source": [
    "print(numbers)"
   ]
  },
  {
   "cell_type": "code",
   "execution_count": 58,
   "id": "42ac0541",
   "metadata": {},
   "outputs": [
    {
     "name": "stdout",
     "output_type": "stream",
     "text": [
      "[75, 66, 45, 2]\n"
     ]
    }
   ],
   "source": [
    "numbers.sort(reverse = True) #better\n",
    "print(numbers)"
   ]
  },
  {
   "cell_type": "code",
   "execution_count": 59,
   "id": "ed521628",
   "metadata": {},
   "outputs": [],
   "source": [
    "colors_sorted = sorted(colors)"
   ]
  },
  {
   "cell_type": "code",
   "execution_count": 60,
   "id": "d9fdf592",
   "metadata": {},
   "outputs": [
    {
     "name": "stdout",
     "output_type": "stream",
     "text": [
      "['brown', 'purple']\n"
     ]
    }
   ],
   "source": [
    "print(colors_sorted)"
   ]
  },
  {
   "cell_type": "code",
   "execution_count": 61,
   "id": "37d491a1",
   "metadata": {},
   "outputs": [
    {
     "name": "stdout",
     "output_type": "stream",
     "text": [
      "red\n",
      "green\n",
      "pink\n",
      "blue\n",
      "yellow\n",
      "Black\n",
      "white\n",
      "purple\n"
     ]
    }
   ],
   "source": [
    "for c in color:\n",
    "    print(c)"
   ]
  },
  {
   "cell_type": "code",
   "execution_count": 62,
   "id": "68d6b576",
   "metadata": {},
   "outputs": [
    {
     "name": "stdout",
     "output_type": "stream",
     "text": [
      "1\n",
      "1\n",
      "0\n",
      "0\n",
      "0\n",
      "0\n",
      "0\n",
      "1\n"
     ]
    }
   ],
   "source": [
    "for c in color:\n",
    "    print(c.count(\"r\"))"
   ]
  },
  {
   "cell_type": "code",
   "execution_count": 63,
   "id": "70b99555",
   "metadata": {},
   "outputs": [
    {
     "name": "stdout",
     "output_type": "stream",
     "text": [
      "3\n",
      "5\n",
      "4\n",
      "4\n",
      "6\n",
      "5\n",
      "5\n",
      "6\n"
     ]
    }
   ],
   "source": [
    "for c in color:\n",
    "    print(len(c))"
   ]
  },
  {
   "cell_type": "code",
   "execution_count": 64,
   "id": "0e1e9fca",
   "metadata": {},
   "outputs": [
    {
     "name": "stdout",
     "output_type": "stream",
     "text": [
      "False\n"
     ]
    }
   ],
   "source": [
    "print(\"grey\" in color)"
   ]
  },
  {
   "cell_type": "code",
   "execution_count": 65,
   "id": "578bc614",
   "metadata": {},
   "outputs": [
    {
     "name": "stdout",
     "output_type": "stream",
     "text": [
      "0 red\n",
      "1 green\n",
      "2 pink\n",
      "3 blue\n",
      "4 yellow\n",
      "5 Black\n",
      "6 white\n",
      "7 purple\n"
     ]
    }
   ],
   "source": [
    "for index, c in enumerate(color):\n",
    "    print(index, c)"
   ]
  },
  {
   "cell_type": "code",
   "execution_count": 66,
   "id": "31243af4",
   "metadata": {},
   "outputs": [
    {
     "name": "stdout",
     "output_type": "stream",
     "text": [
      "red/green/pink/blue/yellow/Black/white/purple\n"
     ]
    }
   ],
   "source": [
    "msg = \"/\".join(color) # gives a single string\n",
    "print(msg)"
   ]
  },
  {
   "cell_type": "code",
   "execution_count": 67,
   "id": "72277530",
   "metadata": {},
   "outputs": [
    {
     "data": {
      "text/plain": [
       "['red', 'green', 'pink', 'blue', 'yellow', 'Black', 'white', 'purple']"
      ]
     },
     "execution_count": 67,
     "metadata": {},
     "output_type": "execute_result"
    }
   ],
   "source": [
    "msg.split(\"/\") # gives a splitted list"
   ]
  },
  {
   "cell_type": "code",
   "execution_count": 68,
   "id": "9df15c63",
   "metadata": {},
   "outputs": [
    {
     "name": "stdout",
     "output_type": "stream",
     "text": [
      "<class 'tuple'>\n"
     ]
    }
   ],
   "source": [
    "# Tuples -> () are immutable\n",
    "\n",
    "color_t = ('Black', 'blue', 'green', 'pink', 'red', 'yellow')\n",
    "print(type(color_t))"
   ]
  },
  {
   "cell_type": "code",
   "execution_count": 69,
   "id": "740b9a9a",
   "metadata": {},
   "outputs": [
    {
     "name": "stdout",
     "output_type": "stream",
     "text": [
      "['red', 'green', 'sabz', 'blue', 'yellow', 'Black', 'white', 'purple']\n"
     ]
    }
   ],
   "source": [
    "color[2] = \"sabz\"\n",
    "print(color)"
   ]
  },
  {
   "cell_type": "code",
   "execution_count": 70,
   "id": "4776cbe8",
   "metadata": {},
   "outputs": [],
   "source": [
    "# color_t[2] = \"sabz\"\n",
    "# print(color_t) ---> TypeError: 'tuple' object does not support item assignment"
   ]
  },
  {
   "cell_type": "code",
   "execution_count": 71,
   "id": "ceafe1f5",
   "metadata": {},
   "outputs": [
    {
     "data": {
      "text/plain": [
       "6"
      ]
     },
     "execution_count": 71,
     "metadata": {},
     "output_type": "execute_result"
    }
   ],
   "source": [
    "len(color_t)"
   ]
  },
  {
   "cell_type": "code",
   "execution_count": 72,
   "id": "1b07953a",
   "metadata": {},
   "outputs": [
    {
     "name": "stdout",
     "output_type": "stream",
     "text": [
      "['__add__', '__class__', '__class_getitem__', '__contains__', '__delattr__', '__dir__', '__doc__', '__eq__', '__format__', '__ge__', '__getattribute__', '__getitem__', '__getnewargs__', '__getstate__', '__gt__', '__hash__', '__init__', '__init_subclass__', '__iter__', '__le__', '__len__', '__lt__', '__mul__', '__ne__', '__new__', '__reduce__', '__reduce_ex__', '__repr__', '__rmul__', '__setattr__', '__sizeof__', '__str__', '__subclasshook__', 'count', 'index']\n"
     ]
    }
   ],
   "source": [
    "# what are the inst.?\n",
    "print(dir(color_t))"
   ]
  },
  {
   "cell_type": "code",
   "execution_count": 73,
   "id": "3ca46b3c",
   "metadata": {},
   "outputs": [
    {
     "data": {
      "text/plain": [
       "1"
      ]
     },
     "execution_count": 73,
     "metadata": {},
     "output_type": "execute_result"
    }
   ],
   "source": [
    "color_t.count(\"blue\")"
   ]
  },
  {
   "cell_type": "code",
   "execution_count": 74,
   "id": "bb2c9452",
   "metadata": {},
   "outputs": [
    {
     "data": {
      "text/plain": [
       "1"
      ]
     },
     "execution_count": 74,
     "metadata": {},
     "output_type": "execute_result"
    }
   ],
   "source": [
    "color_t.index(\"blue\")"
   ]
  },
  {
   "cell_type": "code",
   "execution_count": 75,
   "id": "7dc0904c",
   "metadata": {},
   "outputs": [
    {
     "name": "stdout",
     "output_type": "stream",
     "text": [
      "('Black', 'blue', 'green', 'pink', 'red', 'yellow')\n"
     ]
    }
   ],
   "source": [
    "print(color_t)"
   ]
  },
  {
   "cell_type": "code",
   "execution_count": 76,
   "id": "9aba64a6",
   "metadata": {},
   "outputs": [
    {
     "name": "stdout",
     "output_type": "stream",
     "text": [
      "3\n"
     ]
    }
   ],
   "source": [
    "# Sets -> {}, order is not important and set deletes the duplicated items\n",
    "\n",
    "fruits = {\"apple\", \"banana\", \"watermelon\", \"apple\"}\n",
    "print(len(fruits))\n"
   ]
  },
  {
   "cell_type": "code",
   "execution_count": 77,
   "id": "0d997685",
   "metadata": {},
   "outputs": [
    {
     "name": "stdout",
     "output_type": "stream",
     "text": [
      "7\n",
      "5\n"
     ]
    }
   ],
   "source": [
    "n = [4, 6, 4, 8, 3, 9, 4]\n",
    "print(len(n))\n",
    "print(len(set(n)))"
   ]
  },
  {
   "cell_type": "code",
   "execution_count": 78,
   "id": "e383abe3",
   "metadata": {},
   "outputs": [
    {
     "name": "stdout",
     "output_type": "stream",
     "text": [
      "{'green', 'white', 'yellow', 'red', 'blue'}\n",
      "{'white', 'red'}\n",
      "{'green', 'yellow'}\n",
      "{'blue'}\n"
     ]
    }
   ],
   "source": [
    "color_set1 = {\"green\", \"yellow\", \"red\", \"white\"}\n",
    "color_set2 = {\"blue\", \"red\", \"white\"}\n",
    "\n",
    "print(color_set1.union(color_set2))\n",
    "print(color_set1.intersection(color_set2))\n",
    "print(color_set1.difference(color_set2))\n",
    "print(color_set2.difference(color_set1))"
   ]
  },
  {
   "cell_type": "code",
   "execution_count": 79,
   "id": "495d82cd",
   "metadata": {},
   "outputs": [
    {
     "data": {
      "text/plain": [
       "'\\ndefine list:\\nnum_list = []\\nnum_list = list()\\n\\ndefine tuple:\\nnum_tup = ()\\nnum_tup = tuple()\\n\\ndefine set:\\nnum_set = {} # does not give you a dictionary\\nnum_set = set()\\n\\ndefine dictionary:\\nnum_dic = {} # gives you a dictionary\\nnum_dic = dict()\\n\\n'"
      ]
     },
     "execution_count": 79,
     "metadata": {},
     "output_type": "execute_result"
    }
   ],
   "source": [
    "\"\"\"\n",
    "define list:\n",
    "num_list = []\n",
    "num_list = list()\n",
    "\n",
    "define tuple:\n",
    "num_tup = ()\n",
    "num_tup = tuple()\n",
    "\n",
    "define set:\n",
    "num_set = {} # does not give you a dictionary\n",
    "num_set = set()\n",
    "\n",
    "define dictionary:\n",
    "num_dic = {} # gives you a dictionary\n",
    "num_dic = dict()\n",
    "\n",
    "\"\"\"\n"
   ]
  },
  {
   "cell_type": "markdown",
   "id": "2f6103c0",
   "metadata": {},
   "source": [
    "### Working with Dictionaries!"
   ]
  },
  {
   "cell_type": "code",
   "execution_count": 80,
   "id": "eeb5e824",
   "metadata": {},
   "outputs": [],
   "source": [
    "# Dictionaries -> {}\n",
    "# Key: Value\n",
    "\n",
    "car = {\"brand\": \"Ford\", \"model\": \"Mustang\", \n",
    "       \"year\": 1965, \"colors\": [\"red\", \"blue\"]}\n",
    "\n"
   ]
  },
  {
   "cell_type": "code",
   "execution_count": 81,
   "id": "2c910cf2",
   "metadata": {},
   "outputs": [
    {
     "name": "stdout",
     "output_type": "stream",
     "text": [
      "1965\n"
     ]
    }
   ],
   "source": [
    "print(car[\"year\"])"
   ]
  },
  {
   "cell_type": "code",
   "execution_count": 82,
   "id": "c28870b8",
   "metadata": {},
   "outputs": [
    {
     "name": "stdout",
     "output_type": "stream",
     "text": [
      "None\n",
      "Not Available\n"
     ]
    }
   ],
   "source": [
    "print(car.get(\"city\"))\n",
    "print(car.get(\"city\", \"Not Available\"))"
   ]
  },
  {
   "cell_type": "code",
   "execution_count": 83,
   "id": "56f63714",
   "metadata": {},
   "outputs": [
    {
     "name": "stdout",
     "output_type": "stream",
     "text": [
      "{'brand': 'Ford', 'model': 'Mustang', 'year': 1960, 'colors': ['red', 'blue']}\n"
     ]
    }
   ],
   "source": [
    "car[\"year\"] = 1960\n",
    "print(car)"
   ]
  },
  {
   "cell_type": "code",
   "execution_count": 84,
   "id": "cdf08dd9",
   "metadata": {},
   "outputs": [],
   "source": [
    "car[\"city\"] = \"Tehran\""
   ]
  },
  {
   "cell_type": "code",
   "execution_count": 85,
   "id": "d526315c",
   "metadata": {},
   "outputs": [
    {
     "name": "stdout",
     "output_type": "stream",
     "text": [
      "{'brand': 'Ford', 'model': 'Mustang', 'year': 1960, 'colors': ['red', 'blue'], 'city': 'Tehran'}\n"
     ]
    }
   ],
   "source": [
    "print(car)"
   ]
  },
  {
   "cell_type": "code",
   "execution_count": 86,
   "id": "ff437497",
   "metadata": {},
   "outputs": [
    {
     "name": "stdout",
     "output_type": "stream",
     "text": [
      "{'brand': 'Ford', 'model': 'Mustang', 'year': 1950, 'colors': ['red', 'blue'], 'city': 'Yazd'}\n"
     ]
    }
   ],
   "source": [
    "car.update({\"year\": 1950, \"city\": \"Yazd\"})\n",
    "print(car)"
   ]
  },
  {
   "cell_type": "code",
   "execution_count": 87,
   "id": "e40f8acf",
   "metadata": {},
   "outputs": [
    {
     "name": "stdout",
     "output_type": "stream",
     "text": [
      "{'brand': 'Ford', 'model': 'Mustang', 'year': 1950, 'city': 'Yazd'}\n"
     ]
    }
   ],
   "source": [
    "del car[\"colors\"]\n",
    "print(car)"
   ]
  },
  {
   "cell_type": "code",
   "execution_count": 88,
   "id": "2984a936",
   "metadata": {},
   "outputs": [
    {
     "name": "stdout",
     "output_type": "stream",
     "text": [
      "Mustang\n",
      "{'brand': 'Ford', 'year': 1950, 'city': 'Yazd'}\n"
     ]
    }
   ],
   "source": [
    "model = car.pop(\"model\")\n",
    "print(model)\n",
    "print(car)"
   ]
  },
  {
   "cell_type": "code",
   "execution_count": 89,
   "id": "4cfff028",
   "metadata": {},
   "outputs": [
    {
     "name": "stdout",
     "output_type": "stream",
     "text": [
      "3\n"
     ]
    }
   ],
   "source": [
    "print(len(car))"
   ]
  },
  {
   "cell_type": "code",
   "execution_count": 90,
   "id": "8f26e85c",
   "metadata": {},
   "outputs": [
    {
     "name": "stdout",
     "output_type": "stream",
     "text": [
      "dict_keys(['brand', 'year', 'city'])\n"
     ]
    }
   ],
   "source": [
    "print(car.keys())"
   ]
  },
  {
   "cell_type": "code",
   "execution_count": 91,
   "id": "60fd5a69",
   "metadata": {},
   "outputs": [
    {
     "name": "stdout",
     "output_type": "stream",
     "text": [
      "dict_values(['Ford', 1950, 'Yazd'])\n"
     ]
    }
   ],
   "source": [
    "print(car.values())"
   ]
  },
  {
   "cell_type": "code",
   "execution_count": 92,
   "id": "ee1b1b1b",
   "metadata": {},
   "outputs": [
    {
     "name": "stdout",
     "output_type": "stream",
     "text": [
      "dict_items([('brand', 'Ford'), ('year', 1950), ('city', 'Yazd')])\n"
     ]
    }
   ],
   "source": [
    "print(car.items())"
   ]
  },
  {
   "cell_type": "code",
   "execution_count": 93,
   "id": "5b59eb9c",
   "metadata": {},
   "outputs": [
    {
     "name": "stdout",
     "output_type": "stream",
     "text": [
      "brand -----> Ford\n",
      "year -----> 1950\n",
      "city -----> Yazd\n"
     ]
    }
   ],
   "source": [
    "for key, item in car.items():\n",
    "    print(key, \"----->\", item)"
   ]
  },
  {
   "cell_type": "code",
   "execution_count": 94,
   "id": "a2cec117",
   "metadata": {},
   "outputs": [
    {
     "name": "stdout",
     "output_type": "stream",
     "text": [
      "<class 'str'>\n"
     ]
    }
   ],
   "source": [
    "print(type(item))"
   ]
  },
  {
   "cell_type": "code",
   "execution_count": 95,
   "id": "992e8be7",
   "metadata": {},
   "outputs": [
    {
     "name": "stdout",
     "output_type": "stream",
     "text": [
      "('brand', 'Ford')\n",
      "('year', 1950)\n",
      "('city', 'Yazd')\n"
     ]
    }
   ],
   "source": [
    "for item in car.items():\n",
    "    print(item)"
   ]
  },
  {
   "cell_type": "code",
   "execution_count": 96,
   "id": "da13a741",
   "metadata": {},
   "outputs": [
    {
     "name": "stdout",
     "output_type": "stream",
     "text": [
      "<class 'tuple'>\n"
     ]
    }
   ],
   "source": [
    "print(type(item))"
   ]
  },
  {
   "cell_type": "markdown",
   "id": "33c8610b",
   "metadata": {},
   "source": [
    "# Conditions:"
   ]
  },
  {
   "cell_type": "code",
   "execution_count": 97,
   "id": "bdbaf033",
   "metadata": {},
   "outputs": [
    {
     "name": "stdout",
     "output_type": "stream",
     "text": [
      "YEAH Baby\n"
     ]
    }
   ],
   "source": [
    "# if ... :\n",
    "# elif ...:\n",
    "# else:\n",
    "\n",
    "con = True\n",
    "\n",
    "if con:\n",
    "    print(\"YEAH Baby\")"
   ]
  },
  {
   "cell_type": "code",
   "execution_count": 98,
   "id": "8a288d99",
   "metadata": {},
   "outputs": [
    {
     "name": "stdout",
     "output_type": "stream",
     "text": [
      "Sorry!\n"
     ]
    }
   ],
   "source": [
    "con = False\n",
    "\n",
    "if con:\n",
    "    print(\"YEAH Baby\")\n",
    "else:\n",
    "    print(\"Sorry!\")"
   ]
  },
  {
   "cell_type": "code",
   "execution_count": 99,
   "id": "9a509cc4",
   "metadata": {},
   "outputs": [
    {
     "name": "stdout",
     "output_type": "stream",
     "text": [
      "Yup!\n"
     ]
    }
   ],
   "source": [
    "x = 22\n",
    "\n",
    "# and, or \n",
    "if x == 20 or 22:\n",
    "    print(\"Yup!\")\n",
    "else:\n",
    "    print(\"Nope!\")    "
   ]
  },
  {
   "cell_type": "code",
   "execution_count": 100,
   "id": "9bebce4d",
   "metadata": {},
   "outputs": [
    {
     "name": "stdout",
     "output_type": "stream",
     "text": [
      "24\n"
     ]
    }
   ],
   "source": [
    "x = 22\n",
    "\n",
    "# and, or \n",
    "if x >= 20:\n",
    "    print(x+2)\n",
    "else:\n",
    "    print(x-2) "
   ]
  },
  {
   "cell_type": "code",
   "execution_count": 101,
   "id": "62785b7c",
   "metadata": {},
   "outputs": [
    {
     "name": "stdout",
     "output_type": "stream",
     "text": [
      "23\n"
     ]
    }
   ],
   "source": [
    "x = 22\n",
    "\n",
    "# and, or \n",
    "if x <20:\n",
    "    print(x+2)\n",
    "elif 20 < x < 25:\n",
    "    print(x+1)\n",
    "else:\n",
    "    print(x-2) "
   ]
  },
  {
   "cell_type": "code",
   "execution_count": 102,
   "id": "b1acd1dd",
   "metadata": {},
   "outputs": [
    {
     "name": "stdout",
     "output_type": "stream",
     "text": [
      "True\n",
      "True\n"
     ]
    }
   ],
   "source": [
    "x = 22\n",
    "w = x\n",
    "print(w == x)\n",
    "print(w is x)"
   ]
  },
  {
   "cell_type": "code",
   "execution_count": 103,
   "id": "b9fba20e",
   "metadata": {},
   "outputs": [
    {
     "name": "stdout",
     "output_type": "stream",
     "text": [
      "True\n"
     ]
    }
   ],
   "source": [
    "g = 22\n",
    "q = 22\n",
    "print(g == q)"
   ]
  },
  {
   "cell_type": "code",
   "execution_count": 104,
   "id": "06f8a913",
   "metadata": {},
   "outputs": [
    {
     "name": "stdout",
     "output_type": "stream",
     "text": [
      "True\n"
     ]
    }
   ],
   "source": [
    "print(g is q) # ---> False"
   ]
  },
  {
   "cell_type": "code",
   "execution_count": 105,
   "id": "8babc388",
   "metadata": {},
   "outputs": [
    {
     "name": "stdout",
     "output_type": "stream",
     "text": [
      "140721208093784\n"
     ]
    }
   ],
   "source": [
    "print(id(g))"
   ]
  },
  {
   "cell_type": "code",
   "execution_count": 106,
   "id": "43a79dd7",
   "metadata": {},
   "outputs": [
    {
     "name": "stdout",
     "output_type": "stream",
     "text": [
      "140721208093784\n"
     ]
    }
   ],
   "source": [
    "print(id(q))"
   ]
  },
  {
   "cell_type": "code",
   "execution_count": 107,
   "id": "630a6e3c",
   "metadata": {},
   "outputs": [
    {
     "name": "stdout",
     "output_type": "stream",
     "text": [
      "x-2\n"
     ]
    }
   ],
   "source": [
    "x = None\n",
    "\n",
    "if x:\n",
    "    print(\"x+2\")\n",
    "else:\n",
    "    print(\"x-2\") "
   ]
  },
  {
   "cell_type": "code",
   "execution_count": 108,
   "id": "e8aaee6c",
   "metadata": {},
   "outputs": [
    {
     "name": "stdout",
     "output_type": "stream",
     "text": [
      "x-2\n"
     ]
    }
   ],
   "source": [
    "x = 0\n",
    "\n",
    "if x:\n",
    "    print(\"x+2\")\n",
    "else:\n",
    "    print(\"x-2\") "
   ]
  },
  {
   "cell_type": "code",
   "execution_count": 109,
   "id": "9fa9fcf7",
   "metadata": {},
   "outputs": [
    {
     "name": "stdout",
     "output_type": "stream",
     "text": [
      "x+2\n"
     ]
    }
   ],
   "source": [
    "x = 8\n",
    "\n",
    "if x:\n",
    "    print(\"x+2\")\n",
    "else:\n",
    "    print(\"x-2\") "
   ]
  },
  {
   "cell_type": "code",
   "execution_count": 110,
   "id": "f902094f",
   "metadata": {},
   "outputs": [
    {
     "name": "stdout",
     "output_type": "stream",
     "text": [
      "x-2\n"
     ]
    }
   ],
   "source": [
    "x = []\n",
    "\n",
    "if x:\n",
    "    print(\"x+2\")\n",
    "else:\n",
    "    print(\"x-2\") "
   ]
  },
  {
   "cell_type": "code",
   "execution_count": 111,
   "id": "07eca86f",
   "metadata": {},
   "outputs": [
    {
     "name": "stdout",
     "output_type": "stream",
     "text": [
      "x+2\n"
     ]
    }
   ],
   "source": [
    "x = [1]\n",
    "\n",
    "if x:\n",
    "    print(\"x+2\")\n",
    "else:\n",
    "    print(\"x-2\") "
   ]
  },
  {
   "cell_type": "code",
   "execution_count": 112,
   "id": "5e5b29fe",
   "metadata": {},
   "outputs": [
    {
     "name": "stdout",
     "output_type": "stream",
     "text": [
      "pffff\n"
     ]
    }
   ],
   "source": [
    "name = \"Zina\"\n",
    "\n",
    "if name == \"zina\":\n",
    "    print(\"OK\")\n",
    "else:\n",
    "    print(\"pffff\")"
   ]
  },
  {
   "cell_type": "code",
   "execution_count": 113,
   "id": "fe8a0cf2",
   "metadata": {},
   "outputs": [
    {
     "name": "stdout",
     "output_type": "stream",
     "text": [
      "OK\n"
     ]
    }
   ],
   "source": [
    "name = \"Zina\"\n",
    "\n",
    "if name.lower() == \"zina\":\n",
    "    print(\"OK\")\n",
    "else:\n",
    "    print(\"pffff\")"
   ]
  },
  {
   "cell_type": "markdown",
   "id": "0871f4f6",
   "metadata": {},
   "source": [
    "# Loops:"
   ]
  },
  {
   "cell_type": "code",
   "execution_count": 114,
   "id": "6d151dd6",
   "metadata": {},
   "outputs": [],
   "source": [
    "# for\n",
    "# while"
   ]
  },
  {
   "cell_type": "code",
   "execution_count": 115,
   "id": "257dc533",
   "metadata": {},
   "outputs": [
    {
     "name": "stdout",
     "output_type": "stream",
     "text": [
      "1\n",
      "4\n",
      "9\n",
      "16\n",
      "25\n",
      "36\n"
     ]
    }
   ],
   "source": [
    "num = [1,2,3,4,5,6]\n",
    "\n",
    "for number in num:\n",
    "    print(number**2)"
   ]
  },
  {
   "cell_type": "code",
   "execution_count": 116,
   "id": "6f46f001",
   "metadata": {},
   "outputs": [
    {
     "name": "stdout",
     "output_type": "stream",
     "text": [
      "1\n",
      "4\n",
      "9\n",
      "16\n"
     ]
    }
   ],
   "source": [
    "# break: when the condition is met it breaks the loop\n",
    "\n",
    "num = [1,2,3,4,5,6]\n",
    "\n",
    "for number in num:\n",
    "    if number == 5:\n",
    "        break\n",
    "    print(number**2)\n"
   ]
  },
  {
   "cell_type": "code",
   "execution_count": 117,
   "id": "f0fc8129",
   "metadata": {},
   "outputs": [
    {
     "name": "stdout",
     "output_type": "stream",
     "text": [
      "1\n",
      "4\n",
      "9\n",
      "16\n",
      "36\n"
     ]
    }
   ],
   "source": [
    "# continue: even when the condition is met the loop is continued\n",
    "# good for passing errors\n",
    "\n",
    "num = [1,2,3,4,5,6]\n",
    "\n",
    "for number in num:\n",
    "    if number == 5:\n",
    "        continue\n",
    "    print(number**2)"
   ]
  },
  {
   "cell_type": "code",
   "execution_count": 118,
   "id": "59e470d9",
   "metadata": {},
   "outputs": [
    {
     "name": "stdout",
     "output_type": "stream",
     "text": [
      "1 ball\n",
      "1 doll\n",
      "1 car\n",
      "2 ball\n",
      "2 doll\n",
      "2 car\n",
      "3 ball\n",
      "3 doll\n",
      "3 car\n",
      "4 ball\n",
      "4 doll\n",
      "4 car\n"
     ]
    }
   ],
   "source": [
    "num = [1,2,3,4]\n",
    "item = [\"ball\", \"doll\", \"car\"]\n",
    "\n",
    "for number in num:\n",
    "    for items in item:\n",
    "        print(number, items)"
   ]
  },
  {
   "cell_type": "code",
   "execution_count": 119,
   "id": "9c61f49d",
   "metadata": {},
   "outputs": [
    {
     "name": "stdout",
     "output_type": "stream",
     "text": [
      "1 s\n",
      "1 r\n",
      "1 y\n",
      "2 s\n",
      "2 r\n",
      "2 y\n",
      "3 s\n",
      "3 r\n",
      "3 y\n",
      "4 s\n",
      "4 r\n",
      "4 y\n"
     ]
    }
   ],
   "source": [
    "num = [1,2,3,4]\n",
    "\n",
    "for number in num:\n",
    "    for s in \"sry\":\n",
    "        print(number, s)"
   ]
  },
  {
   "cell_type": "code",
   "execution_count": 120,
   "id": "eaf39b82",
   "metadata": {},
   "outputs": [
    {
     "name": "stdout",
     "output_type": "stream",
     "text": [
      "1\n",
      "2\n",
      "3\n",
      "4\n",
      "5\n",
      "6\n",
      "7\n",
      "8\n",
      "9\n",
      "10\n"
     ]
    }
   ],
   "source": [
    "for ii in range(1,11):\n",
    "    print(ii)"
   ]
  },
  {
   "cell_type": "code",
   "execution_count": 121,
   "id": "09fc1a68",
   "metadata": {},
   "outputs": [
    {
     "name": "stdout",
     "output_type": "stream",
     "text": [
      "4\n",
      "16\n",
      "256\n"
     ]
    }
   ],
   "source": [
    "x = 2\n",
    "for ii in range(3):\n",
    "    x = x*x\n",
    "    print(x)"
   ]
  },
  {
   "cell_type": "code",
   "execution_count": 122,
   "id": "b451fbea",
   "metadata": {},
   "outputs": [
    {
     "name": "stdout",
     "output_type": "stream",
     "text": [
      "5\n",
      "10\n",
      "15\n",
      "20\n",
      "25\n",
      "30\n",
      "35\n",
      "40\n",
      "Whats up man?\n"
     ]
    }
   ],
   "source": [
    "# while condition:\n",
    "    # doing sth\n",
    "\n",
    "x=5\n",
    "while x<60:\n",
    "    print(x)\n",
    "    if x == 40:\n",
    "        print(\"Whats up man?\")\n",
    "        break\n",
    "    x+=5"
   ]
  },
  {
   "cell_type": "code",
   "execution_count": 123,
   "id": "5a93120c",
   "metadata": {},
   "outputs": [
    {
     "name": "stdout",
     "output_type": "stream",
     "text": [
      "3\n",
      "8\n",
      "13\n",
      "18\n",
      "Whats up man?\n"
     ]
    }
   ],
   "source": [
    "x=3\n",
    "while True:\n",
    "    print(x)\n",
    "    if x == 18:\n",
    "        print(\"Whats up man?\")\n",
    "        break\n",
    "    x+=5"
   ]
  },
  {
   "cell_type": "markdown",
   "id": "43d26ffe",
   "metadata": {},
   "source": [
    "**Watch out for Infinite Loops!**"
   ]
  },
  {
   "cell_type": "markdown",
   "id": "c3e98743",
   "metadata": {},
   "source": [
    "# Functions:"
   ]
  },
  {
   "cell_type": "code",
   "execution_count": 124,
   "id": "9c367780",
   "metadata": {},
   "outputs": [
    {
     "name": "stdout",
     "output_type": "stream",
     "text": [
      "Car Color\n"
     ]
    }
   ],
   "source": [
    "# def function_name(): ---> (args)=input / with/without return\n",
    "\n",
    "car_colors = {1: \"blue\", 2: \"red\", 3: \"green\"}\n",
    "\n",
    "def car_color_print():\n",
    "    print(\"Car Color\")\n",
    "\n",
    "car_color_print()"
   ]
  },
  {
   "cell_type": "code",
   "execution_count": 125,
   "id": "18652dbb",
   "metadata": {},
   "outputs": [],
   "source": [
    "car_colors = {1: \"blue\", 2: \"red\", 3: \"green\"}\n",
    "\n",
    "def car_color_print():\n",
    "    msg = \"Car Color hehe\"\n",
    "    return msg\n",
    "\n",
    "my_msg = car_color_print()"
   ]
  },
  {
   "cell_type": "code",
   "execution_count": 126,
   "id": "d19e1dbc",
   "metadata": {},
   "outputs": [
    {
     "name": "stdout",
     "output_type": "stream",
     "text": [
      "Car Color hehe\n"
     ]
    }
   ],
   "source": [
    "print(my_msg)"
   ]
  },
  {
   "cell_type": "code",
   "execution_count": 127,
   "id": "e62b622c",
   "metadata": {},
   "outputs": [
    {
     "name": "stdout",
     "output_type": "stream",
     "text": [
      "Car Color hehe\n"
     ]
    }
   ],
   "source": [
    "print(car_color_print())"
   ]
  },
  {
   "cell_type": "code",
   "execution_count": 128,
   "id": "ca953133",
   "metadata": {},
   "outputs": [],
   "source": [
    "car_colors = {1: \"blue\", 2: \"red\", 3: \"green\"}\n",
    "\n",
    "def car_color_print(num):\n",
    "    car_color = car_colors[num]\n",
    "    # msg = \"Car Color: \" + car_color\n",
    "    # msg = f\"Car Color: {car_color}\"\n",
    "    return f\"Car Color: {car_color}\""
   ]
  },
  {
   "cell_type": "code",
   "execution_count": 129,
   "id": "a30b68c8",
   "metadata": {},
   "outputs": [
    {
     "name": "stdout",
     "output_type": "stream",
     "text": [
      "Car Color: green\n"
     ]
    }
   ],
   "source": [
    "print(car_color_print(3))"
   ]
  },
  {
   "cell_type": "code",
   "execution_count": 130,
   "id": "abd70893",
   "metadata": {},
   "outputs": [],
   "source": [
    "car_colors = {1: \"blue\", 2: \"red\", 3: \"green\"}\n",
    "\n",
    "def car_color_print(num, intro_text=\"Hello\"):\n",
    "    car_color = car_colors[num]\n",
    "    return f\"{intro_text}, Car Color: {car_color}\""
   ]
  },
  {
   "cell_type": "code",
   "execution_count": 131,
   "id": "8c126b73",
   "metadata": {},
   "outputs": [
    {
     "name": "stdout",
     "output_type": "stream",
     "text": [
      "Hello, Car Color: blue\n"
     ]
    }
   ],
   "source": [
    "print(car_color_print(1))"
   ]
  },
  {
   "cell_type": "code",
   "execution_count": 132,
   "id": "e3c66e4b",
   "metadata": {},
   "outputs": [
    {
     "name": "stdout",
     "output_type": "stream",
     "text": [
      "Hi, Car Color: blue\n"
     ]
    }
   ],
   "source": [
    "print(car_color_print(1, \"Hi\"))"
   ]
  },
  {
   "cell_type": "code",
   "execution_count": 133,
   "id": "dea2cf5e",
   "metadata": {},
   "outputs": [],
   "source": [
    "def car_info(*args, **kwargs):\n",
    "    print(args)\n",
    "    print(kwargs)"
   ]
  },
  {
   "cell_type": "code",
   "execution_count": 134,
   "id": "75a18187",
   "metadata": {},
   "outputs": [
    {
     "name": "stdout",
     "output_type": "stream",
     "text": [
      "()\n",
      "{}\n"
     ]
    }
   ],
   "source": [
    "car_info() \n",
    "# tuple\n",
    "# dictionary"
   ]
  },
  {
   "cell_type": "code",
   "execution_count": 135,
   "id": "ce208265",
   "metadata": {},
   "outputs": [
    {
     "name": "stdout",
     "output_type": "stream",
     "text": [
      "('Tehran', 'Paris')\n",
      "{'brand': 'Ford', 'model': 'Mustang'}\n"
     ]
    }
   ],
   "source": [
    "car_info(\"Tehran\", \"Paris\", brand=\"Ford\", model=\"Mustang\")"
   ]
  },
  {
   "cell_type": "code",
   "execution_count": 136,
   "id": "e2759686",
   "metadata": {},
   "outputs": [
    {
     "name": "stdout",
     "output_type": "stream",
     "text": [
      "(['Tehran', 'Paris'], {'brand': 'Ford', 'model': 'Mustang'})\n",
      "{}\n"
     ]
    }
   ],
   "source": [
    "cities = [\"Tehran\", \"Paris\"]\n",
    "specs = {\"brand\":\"Ford\", \"model\":\"Mustang\"}\n",
    "\n",
    "car_info(cities, specs)"
   ]
  },
  {
   "cell_type": "code",
   "execution_count": 137,
   "id": "1602896e",
   "metadata": {},
   "outputs": [
    {
     "name": "stdout",
     "output_type": "stream",
     "text": [
      "('Tehran', 'Paris')\n",
      "{'brand': 'Ford', 'model': 'Mustang'}\n"
     ]
    }
   ],
   "source": [
    "cities = [\"Tehran\", \"Paris\"]\n",
    "specs = {\"brand\":\"Ford\", \"model\":\"Mustang\"}\n",
    "\n",
    "car_info(*cities, **specs)"
   ]
  },
  {
   "cell_type": "markdown",
   "id": "aa7e6766",
   "metadata": {},
   "source": [
    " # Read and Write in Files:"
   ]
  },
  {
   "cell_type": "code",
   "execution_count": 142,
   "id": "cbcbf214",
   "metadata": {},
   "outputs": [
    {
     "name": "stdout",
     "output_type": "stream",
     "text": [
      "<_io.TextIOWrapper name='items.txt' mode='r' encoding='cp1252'>\n"
     ]
    }
   ],
   "source": [
    "# r=read, w=write, a=append, r+=read+write \n",
    "data = open(\"items.txt\", \"r\")\n",
    "data.close() # A MUST after reading a file!!!\n",
    "print(data)"
   ]
  },
  {
   "cell_type": "code",
   "execution_count": 143,
   "id": "f6474fae",
   "metadata": {},
   "outputs": [
    {
     "name": "stdout",
     "output_type": "stream",
     "text": [
      "item 1\n",
      "\n"
     ]
    }
   ],
   "source": [
    "data = open(\"items.txt\", \"r\")\n",
    "print(data.readline())\n",
    "data.close() "
   ]
  },
  {
   "cell_type": "code",
   "execution_count": 144,
   "id": "82589433",
   "metadata": {},
   "outputs": [
    {
     "name": "stdout",
     "output_type": "stream",
     "text": [
      "['item 1\\n', 'item 2\\n', 'item 3\\n', 'item 4']\n"
     ]
    }
   ],
   "source": [
    "data = open(\"items.txt\", \"r\")\n",
    "print(data.readlines()) # a list of lines\n",
    "data.close() "
   ]
  },
  {
   "cell_type": "code",
   "execution_count": 145,
   "id": "66a09455",
   "metadata": {},
   "outputs": [
    {
     "name": "stdout",
     "output_type": "stream",
     "text": [
      "item 1\n",
      "\n",
      "item 2\n",
      "\n",
      "item 3\n",
      "\n",
      "item 4\n"
     ]
    }
   ],
   "source": [
    "data = open(\"items.txt\", \"r\")\n",
    "for item in data.readlines():\n",
    "    print(item)\n",
    "data.close() "
   ]
  },
  {
   "cell_type": "code",
   "execution_count": 146,
   "id": "958a1d73",
   "metadata": {},
   "outputs": [
    {
     "name": "stdout",
     "output_type": "stream",
     "text": [
      "item 1\n",
      "\n",
      "item 2\n",
      "\n",
      "item 3\n",
      "\n",
      "item 4\n"
     ]
    }
   ],
   "source": [
    "data = open(\"items.txt\", \"r\")\n",
    "list_new = data.readlines()\n",
    "for item in list_new:\n",
    "    print(item)\n",
    "data.close()     "
   ]
  },
  {
   "cell_type": "code",
   "execution_count": null,
   "id": "2d8dcc16",
   "metadata": {},
   "outputs": [
    {
     "name": "stdout",
     "output_type": "stream",
     "text": [
      "item 1\n",
      "\n",
      "item 2\n",
      "\n",
      "item 3\n",
      "\n",
      "item 4\n"
     ]
    }
   ],
   "source": [
    "with open(\"items.txt\", \"r\") as data: # does not need close()\n",
    "    list_new = data.readlines()\n",
    "for item in list_new:\n",
    "    print(item)"
   ]
  },
  {
   "cell_type": "code",
   "execution_count": null,
   "id": "6e45cd77",
   "metadata": {},
   "outputs": [],
   "source": [
    "with open(\"items.txt\", \"a\") as data: \n",
    "    data.write(\"\\nitem 5\") \n",
    "    # without \\n the string comes after last  "
   ]
  },
  {
   "cell_type": "code",
   "execution_count": 154,
   "id": "0f0ae5f4",
   "metadata": {},
   "outputs": [],
   "source": [
    "with open(\"items.txt\", \"w\") as data: \n",
    "    data.write(\"\\nitem 5\") \n",
    "    # \"w\" rewrites the file"
   ]
  },
  {
   "cell_type": "code",
   "execution_count": null,
   "id": "1a295cae",
   "metadata": {},
   "outputs": [],
   "source": [
    "with open(\"items2.txt\", \"w\") as data: \n",
    "    data.write(\"item 6\\nitem 7\") \n",
    "    # \"w\" can create a new file"
   ]
  },
  {
   "cell_type": "code",
   "execution_count": null,
   "id": "37822bd8",
   "metadata": {},
   "outputs": [],
   "source": [
    "with open(\"items3.csv\", \"w\") as data: \n",
    "    data.write(\"item 6\\nitem 7\") \n",
    "    # \"w\" can create other files: .csv, .html, ..."
   ]
  },
  {
   "cell_type": "markdown",
   "id": "e86a4080",
   "metadata": {},
   "source": [
    "# Packages:"
   ]
  },
  {
   "cell_type": "code",
   "execution_count": 172,
   "id": "c1473133",
   "metadata": {},
   "outputs": [],
   "source": [
    "# install -> pip install package_name"
   ]
  },
  {
   "cell_type": "code",
   "execution_count": 174,
   "id": "031b0b16",
   "metadata": {},
   "outputs": [],
   "source": [
    "# Python is a modular language using various packages\n",
    "\n",
    "# built-in packages: without install, just import\n",
    "# import math\n",
    "# import os\n",
    "\n",
    "# not built-in packages: should install first, then import\n",
    "# import numpy"
   ]
  },
  {
   "cell_type": "code",
   "execution_count": 175,
   "id": "85fb8659",
   "metadata": {},
   "outputs": [
    {
     "name": "stdout",
     "output_type": "stream",
     "text": [
      "3.141592653589793\n"
     ]
    }
   ],
   "source": [
    "import math\n",
    "\n",
    "print(math.pi)"
   ]
  },
  {
   "cell_type": "code",
   "execution_count": 176,
   "id": "8c9949be",
   "metadata": {},
   "outputs": [
    {
     "name": "stdout",
     "output_type": "stream",
     "text": [
      "9.0\n"
     ]
    }
   ],
   "source": [
    "print(math.sqrt(81))"
   ]
  },
  {
   "cell_type": "code",
   "execution_count": 177,
   "id": "fe6e4959",
   "metadata": {},
   "outputs": [
    {
     "name": "stdout",
     "output_type": "stream",
     "text": [
      "C:/Users/Zeinab/Desktop/Python_Project\\img.png\n"
     ]
    }
   ],
   "source": [
    "# file path and work with files --> os\n",
    "import os\n",
    "\n",
    "path = \"C:/Users/Zeinab/Desktop/Python_Project\"\n",
    "filename = \"img.png\"\n",
    "\n",
    "print(os.path.join(path, filename))"
   ]
  },
  {
   "cell_type": "code",
   "execution_count": 178,
   "id": "44111432",
   "metadata": {},
   "outputs": [],
   "source": [
    "# packages have differenet versions\n",
    "# use -> \"pip show package_name\" to check the version\n",
    "# use -> \"pip uninstall package_name\" to delete the version\n",
    "# use -> \"pip install package_name==version\" for the version\n",
    "#         you have in mind"
   ]
  },
  {
   "cell_type": "code",
   "execution_count": 179,
   "id": "55701a8d",
   "metadata": {},
   "outputs": [],
   "source": [
    "# import cv2\n",
    "# pip install cv ---> We do not have it!\n",
    "# use the site \"PyPI.org\" to ckeck the correct name\n",
    "# some packages have different names for import and install"
   ]
  },
  {
   "cell_type": "code",
   "execution_count": 180,
   "id": "57d82857",
   "metadata": {},
   "outputs": [
    {
     "name": "stdout",
     "output_type": "stream",
     "text": [
      "17\n"
     ]
    }
   ],
   "source": [
    "# you can build a package yourself:\n",
    "import my_Package as mp\n",
    "\n",
    "res = mp.func_add_nums(8,9)\n",
    "print(res)"
   ]
  },
  {
   "cell_type": "markdown",
   "id": "6423f032",
   "metadata": {},
   "source": [
    "# Virtual Environment:"
   ]
  },
  {
   "cell_type": "code",
   "execution_count": null,
   "id": "038832c5",
   "metadata": {},
   "outputs": [],
   "source": [
    "# pip list -> shows all the packages installed on system\n",
    "\n",
    "# use \"venv\" for VE --> \"python -m venv(inst) path_of_project (fol)\"\n",
    "# use \"venv_name\\Scripts\\activate\" -> to activate\n",
    "# use \"pip freeze\" to check and \n",
    "#     \"pip freeze > requirements.txt\" to store package versions to a file\n",
    "# use \"deactivate\" to exit VE\n",
    "# use \"pip install -r requirements.txt\" to transfer packages\n",
    "#     to another VE"
   ]
  },
  {
   "cell_type": "code",
   "execution_count": null,
   "id": "08392843",
   "metadata": {},
   "outputs": [],
   "source": [
    "# in Linux, use \"source VE_name\\bin\\activate\""
   ]
  },
  {
   "cell_type": "markdown",
   "id": "5b0e926c",
   "metadata": {},
   "source": [
    "# Classes and Objects:"
   ]
  },
  {
   "cell_type": "code",
   "execution_count": 206,
   "id": "41b9682f",
   "metadata": {},
   "outputs": [],
   "source": [
    "class Student:\n",
    "    def __init__(self, firstname, lastname, year, score): # always written \n",
    "        self.firstname = firstname\n",
    "        self.lastname = lastname\n",
    "        self.year = year\n",
    "        self.score = score\n",
    "\n",
    "    def fullname(self):\n",
    "        # print(self.firstname + \" \" + self.lastname)\n",
    "        result = f\"{self.firstname} {self.lastname}\"\n",
    "        return result\n",
    "        "
   ]
  },
  {
   "cell_type": "code",
   "execution_count": 207,
   "id": "bfa6b944",
   "metadata": {},
   "outputs": [],
   "source": [
    "# if the class is in another file-> \"from file_name import class_name\""
   ]
  },
  {
   "cell_type": "code",
   "execution_count": 208,
   "id": "794f675a",
   "metadata": {},
   "outputs": [],
   "source": [
    "student1 = Student(\"Sara\", \"Ahmadi\", 1399, 19.5) # object\n",
    "student2 = Student(\"Amin\", \"Motamed\", 1399, 19.25) # object"
   ]
  },
  {
   "cell_type": "code",
   "execution_count": 209,
   "id": "b01647e6",
   "metadata": {},
   "outputs": [
    {
     "name": "stdout",
     "output_type": "stream",
     "text": [
      "<__main__.Student object at 0x00000286AD898D70>\n"
     ]
    }
   ],
   "source": [
    "print(student1)"
   ]
  },
  {
   "cell_type": "code",
   "execution_count": 210,
   "id": "25d23962",
   "metadata": {},
   "outputs": [
    {
     "name": "stdout",
     "output_type": "stream",
     "text": [
      "<__main__.Student object at 0x00000286AD610B30>\n"
     ]
    }
   ],
   "source": [
    "print(student2)"
   ]
  },
  {
   "cell_type": "code",
   "execution_count": 211,
   "id": "7c8a7b97",
   "metadata": {},
   "outputs": [
    {
     "name": "stdout",
     "output_type": "stream",
     "text": [
      "Sara\n"
     ]
    }
   ],
   "source": [
    "print(student1.firstname)"
   ]
  },
  {
   "cell_type": "code",
   "execution_count": 212,
   "id": "e2dee863",
   "metadata": {},
   "outputs": [
    {
     "name": "stdout",
     "output_type": "stream",
     "text": [
      "19.5\n"
     ]
    }
   ],
   "source": [
    "print(student1.score)"
   ]
  },
  {
   "cell_type": "code",
   "execution_count": 213,
   "id": "538a2e54",
   "metadata": {},
   "outputs": [
    {
     "name": "stdout",
     "output_type": "stream",
     "text": [
      "Sara Ahmadi\n"
     ]
    }
   ],
   "source": [
    "print(student1.fullname())"
   ]
  },
  {
   "cell_type": "markdown",
   "id": "8fb0fe0c",
   "metadata": {},
   "source": [
    "# Extra:"
   ]
  },
  {
   "cell_type": "code",
   "execution_count": null,
   "id": "c503f137",
   "metadata": {},
   "outputs": [],
   "source": [
    "# if __name__  == '__main__':"
   ]
  },
  {
   "cell_type": "code",
   "execution_count": null,
   "id": "5188eebe",
   "metadata": {},
   "outputs": [
    {
     "name": "stdout",
     "output_type": "stream",
     "text": [
      "__main__\n"
     ]
    }
   ],
   "source": [
    "print(__name__) # if runs directly, else --> indirect"
   ]
  },
  {
   "cell_type": "code",
   "execution_count": 215,
   "id": "6642f296",
   "metadata": {},
   "outputs": [
    {
     "name": "stdout",
     "output_type": "stream",
     "text": [
      "Directlly run!\n"
     ]
    }
   ],
   "source": [
    "if __name__  == '__main__':\n",
    "    print(\"Directlly run!\")\n",
    "else:\n",
    "    print(\"Indirectlly run!\")"
   ]
  },
  {
   "cell_type": "code",
   "execution_count": null,
   "id": "eae75b7b",
   "metadata": {},
   "outputs": [],
   "source": [
    "# try:, except:, else:, finally: --> for errors!"
   ]
  },
  {
   "cell_type": "code",
   "execution_count": 2,
   "id": "d673e1cf",
   "metadata": {},
   "outputs": [
    {
     "name": "stdout",
     "output_type": "stream",
     "text": [
      "Not a Number!\n"
     ]
    }
   ],
   "source": [
    "test = input(\"Enter your age: \")\n",
    "try:\n",
    "    print(\"Your age is\", str(int(test)))\n",
    "except:\n",
    "    print(\"Not a Number!\")    "
   ]
  },
  {
   "cell_type": "code",
   "execution_count": 5,
   "id": "8d7cae27",
   "metadata": {},
   "outputs": [
    {
     "name": "stdout",
     "output_type": "stream",
     "text": [
      "Your age is 32\n",
      "Thank you!\n",
      "Bye\n"
     ]
    }
   ],
   "source": [
    "test = input(\"Enter your age: \")\n",
    "try:\n",
    "    print(\"Your age is\", str(int(test))) # when there is no error  \n",
    "except:\n",
    "    print(\"Not a Number!\")  # when there is an error  \n",
    "else: \n",
    "    print(\"Thank you!\")  # when there is no error  \n",
    "finally:\n",
    "    print(\"Bye\")"
   ]
  },
  {
   "cell_type": "code",
   "execution_count": null,
   "id": "63162a51",
   "metadata": {},
   "outputs": [
    {
     "name": "stdout",
     "output_type": "stream",
     "text": [
      "item 1\n",
      "item 2\n",
      "item 3\n",
      "item 4\n",
      "item 5\n"
     ]
    }
   ],
   "source": [
    "text = \"ksjfiefi\"\n",
    "textfile = \"items.txt\"\n",
    "f = open(textfile)\n",
    "print(f.read())\n",
    "f.close()"
   ]
  },
  {
   "cell_type": "code",
   "execution_count": null,
   "id": "4c0bf0a4",
   "metadata": {},
   "outputs": [
    {
     "name": "stdout",
     "output_type": "stream",
     "text": [
      "Incorrect file name!\n"
     ]
    }
   ],
   "source": [
    "text = \"ksjfiefi\"\n",
    "textfile = \"iems.txt\" # incorrect name\n",
    "try:\n",
    "    f = open(textfile)\n",
    "except:\n",
    "    print(\"Incorrect file name!\")\n",
    "else:\n",
    "    print(f.read())\n",
    "finally:    \n",
    "    f.close()"
   ]
  },
  {
   "cell_type": "code",
   "execution_count": null,
   "id": "ece9be12",
   "metadata": {},
   "outputs": [
    {
     "name": "stdout",
     "output_type": "stream",
     "text": [
      "item 1\n",
      "item 2\n",
      "item 3\n",
      "item 4\n",
      "item 5\n"
     ]
    }
   ],
   "source": [
    "text = \"ksjfiefi\"\n",
    "textfile = \"items.txt\"\n",
    "try:\n",
    "    f = open(textfile)\n",
    "except FileNotFoundError:\n",
    "    print(\"Incorrect file name!\")\n",
    "except ValueError:\n",
    "    print(\"File must be integer\")\n",
    "except Exception as e: # everything else\n",
    "    print(e)\n",
    "else:\n",
    "    print(f.read())\n",
    "finally:    \n",
    "    f.close()"
   ]
  }
 ],
 "metadata": {
  "kernelspec": {
   "display_name": "Python 3",
   "language": "python",
   "name": "python3"
  },
  "language_info": {
   "codemirror_mode": {
    "name": "ipython",
    "version": 3
   },
   "file_extension": ".py",
   "mimetype": "text/x-python",
   "name": "python",
   "nbconvert_exporter": "python",
   "pygments_lexer": "ipython3",
   "version": "3.12.9"
  }
 },
 "nbformat": 4,
 "nbformat_minor": 5
}
