{
 "cells": [
  {
   "cell_type": "code",
   "execution_count": 1,
   "metadata": {},
   "outputs": [
    {
     "name": "stdout",
     "output_type": "stream",
     "text": [
      "2407905288\n"
     ]
    }
   ],
   "source": [
    "def count_inversions(arr):\n",
    "    # Helper function to merge and count cross inversions\n",
    "    def merge_and_count(left, right):\n",
    "        i = j = 0\n",
    "        merged = []\n",
    "        inversion_count = 0\n",
    "        while i < len(left) and j < len(right):\n",
    "            if left[i] <= right[j]:\n",
    "                merged.append(left[i])\n",
    "                i += 1\n",
    "            else:\n",
    "                merged.append(right[j])\n",
    "                inversion_count += len(left) - i\n",
    "                j += 1\n",
    "        # Add remaining elements\n",
    "        merged.extend(left[i:])\n",
    "        merged.extend(right[j:])\n",
    "        return merged, inversion_count\n",
    "    \n",
    "    # Recursive function\n",
    "    def sort_and_count(arr):\n",
    "        if len(arr) <= 1:\n",
    "            return arr, 0\n",
    "        mid = len(arr) // 2\n",
    "        left, left_count = sort_and_count(arr[:mid])\n",
    "        right, right_count = sort_and_count(arr[mid:])\n",
    "        merged, merge_count = merge_and_count(left, right)\n",
    "        return merged, left_count + right_count + merge_count\n",
    "    \n",
    "    _, total_count = sort_and_count(arr)\n",
    "    return total_count\n",
    "\n",
    "# Example usage\n",
    "with open('file.txt') as file:\n",
    "    array = [int(line.strip()) for line in file]\n",
    "print(count_inversions(array))"
   ]
  }
 ],
 "metadata": {
  "kernelspec": {
   "display_name": "Python 3",
   "language": "python",
   "name": "python3"
  },
  "language_info": {
   "codemirror_mode": {
    "name": "ipython",
    "version": 3
   },
   "file_extension": ".py",
   "mimetype": "text/x-python",
   "name": "python",
   "nbconvert_exporter": "python",
   "pygments_lexer": "ipython3",
   "version": "3.12.9"
  }
 },
 "nbformat": 4,
 "nbformat_minor": 2
}
