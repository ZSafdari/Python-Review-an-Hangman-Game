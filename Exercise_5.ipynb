{
 "cells": [
  {
   "cell_type": "code",
   "execution_count": 1,
   "metadata": {},
   "outputs": [
    {
     "name": "stdout",
     "output_type": "stream",
     "text": [
      "162085\n"
     ]
    }
   ],
   "source": [
    "def quicksort(arr, start, end):\n",
    "    if start >= end:\n",
    "        return 0  # No comparisons if there's only one element or none\n",
    "    \n",
    "    # Choose the first element as the pivot\n",
    "    pivot_index = start\n",
    "    pivot = arr[pivot_index]\n",
    "\n",
    "    # Partition the array\n",
    "    i = start + 1\n",
    "    for j in range(start + 1, end + 1):\n",
    "        if arr[j] < pivot:\n",
    "            arr[i], arr[j] = arr[j], arr[i]  # Swap elements\n",
    "            i += 1\n",
    "\n",
    "    # Place the pivot in its correct position\n",
    "    arr[start], arr[i - 1] = arr[i - 1], arr[start]\n",
    "    new_pivot_index = i - 1\n",
    "\n",
    "    # Count comparisons: m - 1\n",
    "    num_comparisons = end - start\n",
    "\n",
    "    # Recursively sort left and right partitions\n",
    "    num_comparisons += quicksort(arr, start, new_pivot_index - 1)\n",
    "    num_comparisons += quicksort(arr, new_pivot_index + 1, end)\n",
    "\n",
    "    return num_comparisons\n",
    "\n",
    "# Read input file\n",
    "with open(\"file2.txt\") as f:\n",
    "    numbers = list(map(int, f.readlines()))\n",
    "\n",
    "# Perform QuickSort and count comparisons\n",
    "total_comparisons = quicksort(numbers, 0, len(numbers) - 1)\n",
    "print(total_comparisons)"
   ]
  },
  {
   "cell_type": "code",
   "execution_count": 2,
   "metadata": {},
   "outputs": [
    {
     "name": "stdout",
     "output_type": "stream",
     "text": [
      "164123\n"
     ]
    }
   ],
   "source": [
    "def quicksort(arr, start, end):\n",
    "    if start >= end:\n",
    "        return 0  # No comparisons if there's one or zero elements\n",
    "    \n",
    "    # Swap the last element (pivot) with the first element\n",
    "    arr[start], arr[end] = arr[end], arr[start]\n",
    "    pivot_index = start\n",
    "    pivot = arr[pivot_index]\n",
    "\n",
    "    # Partitioning logic\n",
    "    i = start + 1\n",
    "    for j in range(start + 1, end + 1):\n",
    "        if arr[j] < pivot:\n",
    "            arr[i], arr[j] = arr[j], arr[i]  # Swap elements\n",
    "            i += 1\n",
    "\n",
    "    # Place the pivot in its correct position\n",
    "    arr[start], arr[i - 1] = arr[i - 1], arr[start]\n",
    "    new_pivot_index = i - 1\n",
    "\n",
    "    # Count comparisons: m - 1\n",
    "    num_comparisons = end - start\n",
    "\n",
    "    # Recursively sort left and right partitions\n",
    "    num_comparisons += quicksort(arr, start, new_pivot_index - 1)\n",
    "    num_comparisons += quicksort(arr, new_pivot_index + 1, end)\n",
    "\n",
    "    return num_comparisons\n",
    "\n",
    "# Read input file\n",
    "with open(\"file2.txt\") as f:\n",
    "    numbers = list(map(int, f.readlines()))\n",
    "\n",
    "# Perform QuickSort and count comparisons\n",
    "total_comparisons = quicksort(numbers, 0, len(numbers) - 1)\n",
    "print(total_comparisons)"
   ]
  },
  {
   "cell_type": "code",
   "execution_count": 3,
   "metadata": {},
   "outputs": [
    {
     "name": "stdout",
     "output_type": "stream",
     "text": [
      "138382\n"
     ]
    }
   ],
   "source": [
    "def median_of_three(arr, start, end):\n",
    "    \"\"\" Select the pivot as the median of the first, middle, and last elements. \"\"\"\n",
    "    mid = start + (end - start) // 2\n",
    "    candidates = [arr[start], arr[mid], arr[end]]\n",
    "    pivot_value = sorted(candidates)[1]  # Get the median value\n",
    "\n",
    "    # Find index of median and swap it to the first position\n",
    "    if arr[start] == pivot_value:\n",
    "        pivot_index = start\n",
    "    elif arr[mid] == pivot_value:\n",
    "        pivot_index = mid\n",
    "    else:\n",
    "        pivot_index = end\n",
    "    \n",
    "    arr[start], arr[pivot_index] = arr[pivot_index], arr[start]  # Move pivot to the front\n",
    "    return start  # Pivot index\n",
    "\n",
    "def quicksort(arr, start, end):\n",
    "    if start >= end:\n",
    "        return 0  # No comparisons if there's one or zero elements\n",
    "\n",
    "    # Select median-of-three pivot and move it to the start\n",
    "    pivot_index = median_of_three(arr, start, end)\n",
    "    pivot = arr[pivot_index]\n",
    "\n",
    "    # Partitioning logic\n",
    "    i = start + 1\n",
    "    for j in range(start + 1, end + 1):\n",
    "        if arr[j] < pivot:\n",
    "            arr[i], arr[j] = arr[j], arr[i]  # Swap elements\n",
    "            i += 1\n",
    "\n",
    "    # Place the pivot in its correct position\n",
    "    arr[start], arr[i - 1] = arr[i - 1], arr[start]\n",
    "    new_pivot_index = i - 1\n",
    "\n",
    "    # Count comparisons: m - 1\n",
    "    num_comparisons = end - start\n",
    "\n",
    "    # Recursively sort left and right partitions\n",
    "    num_comparisons += quicksort(arr, start, new_pivot_index - 1)\n",
    "    num_comparisons += quicksort(arr, new_pivot_index + 1, end)\n",
    "\n",
    "    return num_comparisons\n",
    "\n",
    "# Read input file\n",
    "with open(\"file2.txt\") as f:\n",
    "    numbers = list(map(int, f.readlines()))\n",
    "\n",
    "# Perform QuickSort and count comparisons\n",
    "total_comparisons = quicksort(numbers, 0, len(numbers) - 1)\n",
    "print(total_comparisons)"
   ]
  },
  {
   "cell_type": "code",
   "execution_count": 4,
   "metadata": {},
   "outputs": [
    {
     "name": "stdout",
     "output_type": "stream",
     "text": [
      "138382\n"
     ]
    }
   ],
   "source": [
    "def median_of_three(arr, start, end):\n",
    "    \"\"\" Selects the pivot as the median of the first, middle, and last elements. \"\"\"\n",
    "    mid = start + (end - start) // 2\n",
    "    candidates = [arr[start], arr[mid], arr[end]]\n",
    "    pivot_value = sorted(candidates)[1]  # Get the median value\n",
    "\n",
    "    # Find index of the median and swap it to the first position\n",
    "    if arr[start] == pivot_value:\n",
    "        pivot_index = start\n",
    "    elif arr[mid] == pivot_value:\n",
    "        pivot_index = mid\n",
    "    else:\n",
    "        pivot_index = end\n",
    "    \n",
    "    arr[start], arr[pivot_index] = arr[pivot_index], arr[start]  # Move pivot to the front\n",
    "    return start  # Pivot index\n",
    "\n",
    "def quicksort(arr, start, end):\n",
    "    if start >= end:\n",
    "        return 0  # No comparisons if there's one or zero elements\n",
    "\n",
    "    # Select median-of-three pivot and move it to the start\n",
    "    pivot_index = median_of_three(arr, start, end)\n",
    "    pivot = arr[pivot_index]\n",
    "\n",
    "    # Partitioning logic\n",
    "    i = start + 1\n",
    "    for j in range(start + 1, end + 1):\n",
    "        if arr[j] < pivot:\n",
    "            arr[i], arr[j] = arr[j], arr[i]  # Swap elements\n",
    "            i += 1\n",
    "\n",
    "    # Place the pivot in its correct position\n",
    "    arr[start], arr[i - 1] = arr[i - 1], arr[start]\n",
    "    new_pivot_index = i - 1\n",
    "\n",
    "    # Count comparisons: m - 1\n",
    "    num_comparisons = end - start\n",
    "\n",
    "    # Recursively sort left and right partitions\n",
    "    num_comparisons += quicksort(arr, start, new_pivot_index - 1)\n",
    "    num_comparisons += quicksort(arr, new_pivot_index + 1, end)\n",
    "\n",
    "    return num_comparisons\n",
    "\n",
    "# Read input file\n",
    "with open(\"file2.txt\") as f:\n",
    "    numbers = list(map(int, f.readlines()))\n",
    "\n",
    "# Perform QuickSort and count comparisons\n",
    "total_comparisons = quicksort(numbers, 0, len(numbers) - 1)\n",
    "print(total_comparisons)\n"
   ]
  }
 ],
 "metadata": {
  "kernelspec": {
   "display_name": "Python 3",
   "language": "python",
   "name": "python3"
  },
  "language_info": {
   "codemirror_mode": {
    "name": "ipython",
    "version": 3
   },
   "file_extension": ".py",
   "mimetype": "text/x-python",
   "name": "python",
   "nbconvert_exporter": "python",
   "pygments_lexer": "ipython3",
   "version": "3.12.9"
  }
 },
 "nbformat": 4,
 "nbformat_minor": 2
}
