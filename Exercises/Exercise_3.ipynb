{
 "cells": [
  {
   "cell_type": "code",
   "execution_count": 2,
   "metadata": {},
   "outputs": [
    {
     "name": "stdout",
     "output_type": "stream",
     "text": [
      "8539734222673567065463550869546574495034888535765114961879601127067743044893204848617875072216249073013374895871952806582723184\n"
     ]
    }
   ],
   "source": [
    "# Karatsuba's algorithm to multiply the given 64-digit numbers:\n",
    "\n",
    "def karatsuba(x, y):\n",
    "    # Base case for recursion\n",
    "    if x < 10 or y < 10:\n",
    "        return x * y\n",
    "    \n",
    "    # Calculate the size of the numbers\n",
    "    n = max(len(str(x)), len(str(y)))\n",
    "    m = n // 2\n",
    "    \n",
    "    # Split the numbers\n",
    "    high1, low1 = divmod(x, 10**m)\n",
    "    high2, low2 = divmod(y, 10**m)\n",
    "    \n",
    "    # Recursively calculate three products\n",
    "    z0 = karatsuba(low1, low2)\n",
    "    z1 = karatsuba((low1 + high1), (low2 + high2))\n",
    "    z2 = karatsuba(high1, high2)\n",
    "    \n",
    "    # Combine the results\n",
    "    return (z2 * 10**(2*m)) + ((z1 - z2 - z0) * 10**m) + z0\n",
    "\n",
    "# Example input numbers\n",
    "num1 = 3141592653589793238462643383279502884197169399375105820974944592\n",
    "num2 = 2718281828459045235360287471352662497757247093699959574966967627\n",
    "\n",
    "# Compute the product using Karatsuba's algorithm\n",
    "result = karatsuba(num1, num2)\n",
    "print(result)"
   ]
  }
 ],
 "metadata": {
  "kernelspec": {
   "display_name": "Python 3",
   "language": "python",
   "name": "python3"
  },
  "language_info": {
   "codemirror_mode": {
    "name": "ipython",
    "version": 3
   },
   "file_extension": ".py",
   "mimetype": "text/x-python",
   "name": "python",
   "nbconvert_exporter": "python",
   "pygments_lexer": "ipython3",
   "version": "3.12.9"
  }
 },
 "nbformat": 4,
 "nbformat_minor": 2
}
